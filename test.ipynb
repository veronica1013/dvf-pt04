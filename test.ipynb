{
 "cells": [
  {
   "cell_type": "markdown",
   "metadata": {},
   "source": [
    "#### 1. Setting up a virtual Environment\n",
    "\n",
    "To set up a virtual environment, run the below commands considering if you are a windows user or mac user:\n",
    "* Windows user, run ```conda env create -f win_environment.yml``` \n",
    "* Mac users, run ```conda env create -f mac_environment.yml```"
   ]
  },
  {
   "cell_type": "markdown",
   "metadata": {},
   "source": [
    "#### 2. Command for Activating a Virtual Environment (learn-env)\n",
    "\n",
    "The command for activating a virtual environment is ```conda activate learn-env```\n",
    "\n",
    "**Note:** \n",
    "* Before activating a virtual environment, confirm that there's no active environment. In case there's an active environment, deactivate it by running this command ```conda deactivate```"
   ]
  },
  {
   "cell_type": "markdown",
   "metadata": {},
   "source": [
    "#### 3. How to Open a jupyter notebook \n",
    "\n",
    "To pen a jupyter notebook, run this command from the anaconda prompt ```jupyter notebook```"
   ]
  }
 ],
 "metadata": {
  "kernelspec": {
   "display_name": "Python 3",
   "language": "python",
   "name": "python3"
  },
  "language_info": {
   "codemirror_mode": {
    "name": "ipython",
    "version": 3
   },
   "file_extension": ".py",
   "mimetype": "text/x-python",
   "name": "python",
   "nbconvert_exporter": "python",
   "pygments_lexer": "ipython3",
   "version": "3.8.5"
  }
 },
 "nbformat": 4,
 "nbformat_minor": 4
}
